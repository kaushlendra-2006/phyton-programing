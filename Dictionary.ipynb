{
 "cells": [
  {
   "cell_type": "markdown",
   "metadata": {
    "id": "O-DIodf4n02h"
   },
   "source": [
    "# **Dictionary Assignments**\n",
    " **- By Tushti Gupta SODS**"
   ]
  },
  {
   "cell_type": "markdown",
   "metadata": {
    "id": "yM7Luxa8oowz"
   },
   "source": [
    "*Sort Python Dictionaries by Key or Value.*"
   ]
  },
  {
   "cell_type": "code",
   "execution_count": null,
   "metadata": {
    "colab": {
     "base_uri": "https://localhost:8080/"
    },
    "id": "0ctQ3VAAjpAe",
    "outputId": "f5eef325-fc60-428a-a09b-5d6ff11d1fdf"
   },
   "outputs": [
    {
     "name": "stdout",
     "output_type": "stream",
     "text": [
      "{'name': 'Alice', 'age': 20, 'grade': 'A'}\n"
     ]
    }
   ],
   "source": [
    "student = {'name': 'Alice', 'age': 20, 'grade': 'A'}\n",
    "print(student)"
   ]
  },
  {
   "cell_type": "code",
   "execution_count": null,
   "metadata": {
    "colab": {
     "base_uri": "https://localhost:8080/"
    },
    "id": "G-JQSQxyoPQB",
    "outputId": "3b432eda-641c-44bf-8720-052fd67abc76"
   },
   "outputs": [
    {
     "data": {
      "text/plain": [
       "dict_keys(['name', 'age', 'grade'])"
      ]
     },
     "execution_count": 4,
     "metadata": {},
     "output_type": "execute_result"
    }
   ],
   "source": [
    "# Sorting acc. to keys\n",
    "student.keys()"
   ]
  },
  {
   "cell_type": "code",
   "execution_count": null,
   "metadata": {
    "colab": {
     "base_uri": "https://localhost:8080/"
    },
    "id": "fOpnARzgoPMn",
    "outputId": "76c5d9ad-719b-4300-d98d-216518ffff85"
   },
   "outputs": [
    {
     "data": {
      "text/plain": [
       "dict_values(['Alice', 20, 'A'])"
      ]
     },
     "execution_count": 5,
     "metadata": {},
     "output_type": "execute_result"
    }
   ],
   "source": [
    "# Sorting acc. to values\n",
    "student.values()"
   ]
  },
  {
   "cell_type": "markdown",
   "metadata": {
    "id": "9zWXIMTSoy3b"
   },
   "source": [
    "*Python dictionary with keys having multiple inputs*"
   ]
  },
  {
   "cell_type": "code",
   "execution_count": null,
   "metadata": {
    "colab": {
     "base_uri": "https://localhost:8080/"
    },
    "id": "7JBZAKVEoPJ5",
    "outputId": "68b14263-74ea-4282-8cb6-a560679f7756"
   },
   "outputs": [
    {
     "name": "stdout",
     "output_type": "stream",
     "text": [
      "{'apple': ['red', 'sweet', 'crunchy'], 'banana': ['yellow', 'sweet', 'energizing'], 'orange': ['orange', 'citrusy', 'juicy']}\n"
     ]
    }
   ],
   "source": [
    "fruit_basket = {\n",
    "    'apple': ['red', 'sweet', 'crunchy'],\n",
    "    'banana': ['yellow', 'sweet', 'energizing'],\n",
    "    'orange': ['orange', 'citrusy', 'juicy']\n",
    "}\n",
    "print(fruit_basket)"
   ]
  },
  {
   "cell_type": "markdown",
   "metadata": {
    "id": "m4qG_EGNpiZ8"
   },
   "source": [
    "*Python program to find the sum of all items in a dictionary*"
   ]
  },
  {
   "cell_type": "code",
   "execution_count": null,
   "metadata": {
    "colab": {
     "base_uri": "https://localhost:8080/"
    },
    "id": "Ee-aQGOYoPDw",
    "outputId": "510cd7f5-0aaf-419a-be4b-209480160522"
   },
   "outputs": [
    {
     "name": "stdout",
     "output_type": "stream",
     "text": [
      "Sum of all the items in dictionary is:- 60\n"
     ]
    }
   ],
   "source": [
    "dict={'a':10,'b':20,'c':30}\n",
    "total=sum(dict.values())\n",
    "print(\"Sum of all the items in dictionary is:-\",total)"
   ]
  },
  {
   "cell_type": "markdown",
   "metadata": {
    "id": "Z-5pdQ-DBVnb"
   },
   "source": [
    "*Python program to find the size of a Dictionary*"
   ]
  },
  {
   "cell_type": "code",
   "execution_count": null,
   "metadata": {
    "colab": {
     "base_uri": "https://localhost:8080/"
    },
    "id": "yggeHgwVoO_X",
    "outputId": "43fa4dea-ee40-43e3-e2f6-16b828c07d0b"
   },
   "outputs": [
    {
     "name": "stdout",
     "output_type": "stream",
     "text": [
      "The size of the dictionary is:-  4\n"
     ]
    }
   ],
   "source": [
    "dict={'a':10,'b':20,'c':30,'d':40}\n",
    "size=len(dict)\n",
    "print(\"The size of the dictionary is:- \",size)"
   ]
  },
  {
   "cell_type": "markdown",
   "metadata": {
    "id": "Fn6gMhUeCPci"
   },
   "source": [
    "*Ways to sort list of dictionaries by values in Python – Using itemgetter*"
   ]
  },
  {
   "cell_type": "code",
   "execution_count": null,
   "metadata": {
    "colab": {
     "base_uri": "https://localhost:8080/"
    },
    "id": "OQLPIUTboO8G",
    "outputId": "a281a671-cb74-4826-ccad-118a47cea4f2"
   },
   "outputs": [
    {
     "name": "stdout",
     "output_type": "stream",
     "text": [
      "sorted List [{'name': 'Bob', 'age': 20}, {'name': 'Alice', 'age': 25}, {'name': 'Charlie', 'age': 30}]\n"
     ]
    }
   ],
   "source": [
    "list_of_dicts = [\n",
    "    {'name': 'Alice', 'age': 25},\n",
    "    {'name': 'Bob', 'age': 20},\n",
    "    {'name': 'Charlie', 'age': 30}\n",
    "]\n",
    "from operator import itemgetter\n",
    "sorted_list=sorted(list_of_dicts,key=itemgetter('age'))\n",
    "print(\"sorted List\",sorted_list)"
   ]
  },
  {
   "cell_type": "markdown",
   "metadata": {
    "id": "YoH9JckgDsKa"
   },
   "source": [
    "*Ways to sort list of dictionaries by values in Python – Using lambda function*"
   ]
  },
  {
   "cell_type": "code",
   "execution_count": null,
   "metadata": {
    "colab": {
     "base_uri": "https://localhost:8080/"
    },
    "id": "PephOmZHoO6F",
    "outputId": "e2b8b0e2-2014-411f-956a-651f7bca64e5"
   },
   "outputs": [
    {
     "name": "stdout",
     "output_type": "stream",
     "text": [
      "Sorted List  [{'name': 'Bob', 'age': 20}, {'name': 'Alice', 'age': 25}, {'name': 'Charlie', 'age': 30}]\n"
     ]
    }
   ],
   "source": [
    "list_of_dicts = [\n",
    "    {'name': 'Alice', 'age': 25},\n",
    "    {'name': 'Bob', 'age': 20},\n",
    "    {'name': 'Charlie', 'age': 30}\n",
    "]\n",
    "sorted_list=sorted(list_of_dicts,key=lambda x:x['age'])\n",
    "print(\"Sorted List \",sorted_list)"
   ]
  },
  {
   "cell_type": "markdown",
   "metadata": {
    "id": "W-oG9nfIEmBU"
   },
   "source": [
    "*Merging two Dictionaries*"
   ]
  },
  {
   "cell_type": "code",
   "execution_count": null,
   "metadata": {
    "colab": {
     "base_uri": "https://localhost:8080/"
    },
    "id": "q7ZaBvisoO4A",
    "outputId": "a6053c2d-1df7-4dd1-9d87-f880e7c77bba"
   },
   "outputs": [
    {
     "name": "stdout",
     "output_type": "stream",
     "text": [
      "{'a': 1, 'b': 3, 'c': 4}\n"
     ]
    }
   ],
   "source": [
    "dict1 = {'a': 1, 'b': 2}\n",
    "dict2 = {'b': 3, 'c': 4}\n",
    "\n",
    "# Using update() to merge dict2 into dict1\n",
    "dict1.update(dict2)\n",
    "print(dict1)"
   ]
  },
  {
   "cell_type": "markdown",
   "metadata": {
    "id": "0ex5Y1nxFIeT"
   },
   "source": [
    "*Program to create grade calculator in Python*"
   ]
  },
  {
   "cell_type": "code",
   "execution_count": null,
   "metadata": {
    "colab": {
     "base_uri": "https://localhost:8080/"
    },
    "id": "YheZEwPooO1X",
    "outputId": "fbf085ff-3844-4c2f-e2fc-48d785d8b530"
   },
   "outputs": [
    {
     "name": "stdout",
     "output_type": "stream",
     "text": [
      "Student Grades:\n",
      "Alice:B\n",
      "Bob:A\n",
      "Charlie:C\n",
      "David:F\n",
      "Eve:D\n"
     ]
    }
   ],
   "source": [
    "# Step 1: Create a dictionary with student names and scores\n",
    "student_scores={\n",
    "    \"Alice\":85,\n",
    "    \"Bob\":92,\n",
    "    \"Charlie\":76,\n",
    "    \"David\":59,\n",
    "    \"Eve\":68\n",
    "}\n",
    "# Step 2: Define a function to calculate grades based on score\n",
    "def calculate_grade(score):\n",
    "  if score>=90:\n",
    "    return \"A\"\n",
    "  elif score>=80:\n",
    "    return \"B\"\n",
    "  elif score>=70:\n",
    "    return \"C\"\n",
    "  elif score>=60:\n",
    "    return \"D\"\n",
    "  else:\n",
    "    return \"F\"\n",
    "# Step 3: Create a dictionary to store each student's grade\n",
    "student_grades={}\n",
    "# Step 4: Calculate grades for each student and store them in the dictionary\n",
    "for student,score in student_scores.items():\n",
    "  student_grades[student]=calculate_grade(score)\n",
    "  student_grades[student] = calculate_grade(score)\n",
    "\n",
    "# Step 5: Print the final grades\n",
    "print(\"Student Grades:\")\n",
    "for student,grade in student_grades.items():\n",
    "  print(f\"{student}:{grade}\")"
   ]
  },
  {
   "cell_type": "markdown",
   "metadata": {
    "id": "3siSRWONJsaH"
   },
   "source": [
    "*Insertion at the beginning in OrderedDict*"
   ]
  },
  {
   "cell_type": "code",
   "execution_count": null,
   "metadata": {
    "colab": {
     "base_uri": "https://localhost:8080/"
    },
    "id": "3MpkEiX3oOyh",
    "outputId": "9252216a-4c0c-4caa-88c9-1c4870460528"
   },
   "outputs": [
    {
     "name": "stdout",
     "output_type": "stream",
     "text": [
      "Original OrderedDict: OrderedDict([('b', 2), ('c', 3)])\n",
      "After insertion at the beginning: OrderedDict([('a', 1), ('b', 2), ('c', 3)])\n"
     ]
    }
   ],
   "source": [
    "from collections import OrderedDict\n",
    "\n",
    "# Original OrderedDict\n",
    "ordered_dict = OrderedDict([('b', 2), ('c', 3)])\n",
    "print(\"Original OrderedDict:\", ordered_dict)\n",
    "\n",
    "# Insert item at the beginning\n",
    "new_item = OrderedDict([('a', 1)])\n",
    "ordered_dict = OrderedDict(list(new_item.items()) + list(ordered_dict.items()))\n",
    "\n",
    "print(\"After insertion at the beginning:\",ordered_dict)"
   ]
  },
  {
   "cell_type": "markdown",
   "metadata": {
    "id": "cAV_Ph-BT0UH"
   },
   "source": [
    "*Find common elements in three sorted arrays by dictionary intersection*"
   ]
  },
  {
   "cell_type": "code",
   "execution_count": null,
   "metadata": {
    "colab": {
     "base_uri": "https://localhost:8080/"
    },
    "id": "CR2tvt4-oOv9",
    "outputId": "b1e3eff3-2bcb-4fdf-afa3-289b91a781e3"
   },
   "outputs": [
    {
     "name": "stdout",
     "output_type": "stream",
     "text": [
      "Common elements [4, 6]\n"
     ]
    }
   ],
   "source": [
    "array1=[1,2,4,5,6]\n",
    "array2=[2,4,6,8]\n",
    "array3=[4,6,8,10]\n",
    "# Step1- Convert each array into dicionaries\n",
    "dict1=dict.fromkeys(array1)\n",
    "dict2=dict.fromkeys(array2)\n",
    "dict3=dict.fromkeys(array3)\n",
    "\n",
    "# Step2- Find the intersection of keys\n",
    "common_elements=dict1.keys() & dict2.keys() & dict3.keys()\n",
    "\n",
    "# Convert the result to a list\n",
    "common_elements=list(common_elements)\n",
    "print(\"Common elements\",common_elements)"
   ]
  },
  {
   "cell_type": "markdown",
   "metadata": {
    "id": "Fo5pVrJeWvdc"
   },
   "source": [
    "*Dictionary and counter in Python to find winner of election*"
   ]
  },
  {
   "cell_type": "code",
   "execution_count": null,
   "metadata": {
    "colab": {
     "base_uri": "https://localhost:8080/"
    },
    "id": "D11Hn3L0oOso",
    "outputId": "989c2b68-c289-4869-c014-7b90058ac11c"
   },
   "outputs": [
    {
     "name": "stdout",
     "output_type": "stream",
     "text": [
      "The winner is: Bob\n"
     ]
    }
   ],
   "source": [
    "from collections import Counter\n",
    "\n",
    "# List of votes, where each element represents a vote for a candidate\n",
    "votes = [\"Alice\", \"Bob\", \"Alice\", \"Charlie\", \"Bob\", \"Alice\", \"Bob\", \"Bob\"]\n",
    "\n",
    "# Step 1: Use Counter to count votes for each candidate\n",
    "vote_count = Counter(votes)\n",
    "\n",
    "# Step 2: Find the candidate with the maximum votes\n",
    "# This will return a list of (candidate, count) tuples\n",
    "winner = max(vote_count.items(), key=lambda x: (x[1], x[0]))\n",
    "\n",
    "# Print the winner\n",
    "print(\"The winner is:\",winner[0])"
   ]
  },
  {
   "cell_type": "markdown",
   "metadata": {
    "id": "dbe-DeSCXkUh"
   },
   "source": [
    "*Key with maximum unique values*"
   ]
  },
  {
   "cell_type": "code",
   "execution_count": null,
   "metadata": {
    "colab": {
     "base_uri": "https://localhost:8080/"
    },
    "id": "_ci1EBlWoOp7",
    "outputId": "cad99cb7-1b0c-4795-b7ba-53bb2f16fea7"
   },
   "outputs": [
    {
     "name": "stdout",
     "output_type": "stream",
     "text": [
      "Key with maximum unique values: key1\n"
     ]
    }
   ],
   "source": [
    "data = {\n",
    "    'key1': [1, 2, 2, 3, 4],\n",
    "    'key2': [2, 3, 3, 4],\n",
    "    'key3': [4,5,6,6,7]\n",
    "}\n",
    "# Step 1: Calculate the number of unique values for each key\n",
    "unique_counts = {key: len(set(values)) for key, values in data.items()}\n",
    "\n",
    "# Step 2: Find the key with the maximum unique values\n",
    "max_key = max(unique_counts, key=unique_counts.get)\n",
    "\n",
    "print(\"Key with maximum unique values:\",max_key)"
   ]
  },
  {
   "cell_type": "markdown",
   "metadata": {
    "id": "vj0A8inNmO6_"
   },
   "source": [
    "*Find all duplicate characters in string*"
   ]
  },
  {
   "cell_type": "code",
   "execution_count": null,
   "metadata": {
    "colab": {
     "base_uri": "https://localhost:8080/"
    },
    "id": "_sv29M-woOnX",
    "outputId": "52f19e93-50ed-4c55-ffae-60aba1aba11c"
   },
   "outputs": [
    {
     "name": "stdout",
     "output_type": "stream",
     "text": [
      "Duplicate characters: ['r', 'g', 'm']\n"
     ]
    }
   ],
   "source": [
    "from collections import Counter\n",
    "\n",
    "# Input string\n",
    "string = \"programming\"\n",
    "\n",
    "# Step 1: Count each character's occurrences\n",
    "char_count = Counter(string)\n",
    "\n",
    "# Step 2: Find characters with count greater than 1\n",
    "duplicates = [char for char, count in char_count.items() if count > 1]\n",
    "\n",
    "print(\"Duplicate characters:\",duplicates)"
   ]
  },
  {
   "cell_type": "markdown",
   "metadata": {
    "id": "Phzf7VlunAn6"
   },
   "source": [
    "*Group Similar items to Dictionary Values List*"
   ]
  },
  {
   "cell_type": "code",
   "execution_count": null,
   "metadata": {
    "colab": {
     "base_uri": "https://localhost:8080/"
    },
    "id": "7BUpd950oOkS",
    "outputId": "6b67f37f-c5e6-4449-c1c9-14e98ab704d4"
   },
   "outputs": [
    {
     "name": "stdout",
     "output_type": "stream",
     "text": [
      "Grouped words by first letter: {'a': ['apple', 'apricot', 'avocado'], 'b': ['banana', 'blueberry'], 'c': ['cherry', 'carrot']}\n"
     ]
    }
   ],
   "source": [
    "# Input list\n",
    "words = [\"apple\", \"apricot\", \"banana\", \"cherry\", \"blueberry\", \"avocado\", \"carrot\"]\n",
    "\n",
    "# Step 1: Initialize an empty dictionary for grouping\n",
    "grouped_words = {}\n",
    "\n",
    "# Step 2: Iterate through each word and group by first letter\n",
    "for word in words:\n",
    "    # Use the first letter of each word as the key\n",
    "    key = word[0]\n",
    "\n",
    "    # Add the word to the list of its corresponding key\n",
    "    if key not in grouped_words:\n",
    "        grouped_words[key] = []  # Initialize list if key is not present\n",
    "    grouped_words[key].append(word)\n",
    "\n",
    "# Print the grouped dictionary\n",
    "print(\"Grouped words by first letter:\",grouped_words)"
   ]
  },
  {
   "cell_type": "markdown",
   "metadata": {
    "id": "BYc7EW7ioTxX"
   },
   "source": [
    "*Replace String by Kth Dictionary value*"
   ]
  },
  {
   "cell_type": "code",
   "execution_count": null,
   "metadata": {
    "colab": {
     "base_uri": "https://localhost:8080/"
    },
    "id": "x41Nw2-ooOhp",
    "outputId": "6e66ff87-4287-4a78-e6ce-820ef156d5c9"
   },
   "outputs": [
    {
     "name": "stdout",
     "output_type": "stream",
     "text": [
      "Replaced string: cherry\n"
     ]
    }
   ],
   "source": [
    "data = {1: \"apple\", 2: \"banana\", 3: \"cherry\", 4: \"date\", 5: \"elderberry\"}\n",
    "\n",
    "# String to replace\n",
    "original_string = \"fruit\"\n",
    "\n",
    "# Define the position k\n",
    "k = 3  # For example, we want the 3rd value\n",
    "\n",
    "# Step 1: Get the k-th dictionary value\n",
    "# Check if k is within the dictionary's range\n",
    "if 1 <= k <= len(data):\n",
    "    replacement_value = list(data.values())[k - 1]\n",
    "\n",
    "    # Step 2: Replace the string\n",
    "    new_string = replacement_value\n",
    "else:\n",
    "    new_string = original_string  # If k is out of range, keep the original string\n",
    "\n",
    "print(\"Replaced string:\",new_string)"
   ]
  },
  {
   "cell_type": "markdown",
   "metadata": {
    "id": "ptuSuRh2pfBc"
   },
   "source": [
    "*Ways to remove a key from dictionary*"
   ]
  },
  {
   "cell_type": "code",
   "execution_count": null,
   "metadata": {
    "colab": {
     "base_uri": "https://localhost:8080/"
    },
    "id": "XEaEVkRGoOev",
    "outputId": "14b0f1bc-aae1-426b-e24f-f0306a45d134"
   },
   "outputs": [
    {
     "name": "stdout",
     "output_type": "stream",
     "text": [
      "{'a': 1, 'c': 3}\n"
     ]
    }
   ],
   "source": [
    "# Using del method\n",
    "data = {\"a\": 1, \"b\": 2, \"c\": 3}\n",
    "del data[\"b\"]\n",
    "print(data)"
   ]
  },
  {
   "cell_type": "code",
   "execution_count": null,
   "metadata": {
    "colab": {
     "base_uri": "https://localhost:8080/"
    },
    "id": "VUAv5vuEoOcC",
    "outputId": "421ba2e7-3076-45fc-eadc-86a663fffed2"
   },
   "outputs": [
    {
     "name": "stdout",
     "output_type": "stream",
     "text": [
      "{'a': 1, 'c': 3}\n",
      "2\n"
     ]
    }
   ],
   "source": [
    "# Using pop() method\n",
    "data = {\"a\": 1, \"b\": 2, \"c\": 3}\n",
    "value = data.pop(\"b\", None)  # Removes \"b\" and returns its value\n",
    "print(data)\n",
    "print(value)"
   ]
  },
  {
   "cell_type": "code",
   "execution_count": null,
   "metadata": {
    "colab": {
     "base_uri": "https://localhost:8080/"
    },
    "id": "g6Q0ap-HoOZX",
    "outputId": "9c6fb13c-f48f-4b91-92e7-e262febf894e"
   },
   "outputs": [
    {
     "name": "stdout",
     "output_type": "stream",
     "text": [
      "{'a': 1, 'b': 2}\n",
      "c 3\n"
     ]
    }
   ],
   "source": [
    "# Using  popitem() method\n",
    "data = {\"a\": 1, \"b\": 2, \"c\": 3}\n",
    "key, value = data.popitem()\n",
    "print(data)\n",
    "print(key, value)"
   ]
  },
  {
   "cell_type": "markdown",
   "metadata": {
    "id": "-tl88bBrrvGq"
   },
   "source": [
    "*Replace words from Dictionary*"
   ]
  },
  {
   "cell_type": "code",
   "execution_count": null,
   "metadata": {
    "colab": {
     "base_uri": "https://localhost:8080/"
    },
    "id": "K0DRPfeUoOW7",
    "outputId": "f4c9d903-1d28-4b31-b667-280c6128b984"
   },
   "outputs": [
    {
     "name": "stdout",
     "output_type": "stream",
     "text": [
      "Hello Earth, welcome to the cosmos\n"
     ]
    }
   ],
   "source": [
    "text = \"Hello world, welcome to the universe\"\n",
    "replacements = {\"world\": \"Earth\", \"universe\": \"cosmos\"}\n",
    "\n",
    "# Replace each word in the dictionary\n",
    "for old_word, new_word in replacements.items():\n",
    "    text = text.replace(old_word, new_word)\n",
    "\n",
    "print(text)"
   ]
  },
  {
   "cell_type": "markdown",
   "metadata": {
    "id": "eArdFNWjr9pA"
   },
   "source": [
    "*Remove Dictionary Key Words*"
   ]
  },
  {
   "cell_type": "code",
   "execution_count": null,
   "metadata": {
    "colab": {
     "base_uri": "https://localhost:8080/"
    },
    "id": "AxC3zSKZoOUY",
    "outputId": "b792348a-5de4-4a59-e341-a7e8dd0612f8"
   },
   "outputs": [
    {
     "name": "stdout",
     "output_type": "stream",
     "text": [
      "{'name': 'Alice', 'city': 'New York'}\n"
     ]
    }
   ],
   "source": [
    " data = {\"name\": \"Alice\", \"age\": 25, \"city\": \"New York\"}\n",
    "del data[\"age\"]\n",
    "print(data)"
   ]
  },
  {
   "cell_type": "markdown",
   "metadata": {
    "id": "Kve9Qzb-xeHV"
   },
   "source": [
    "*Remove duplicate values across Dictionary Values*"
   ]
  },
  {
   "cell_type": "code",
   "execution_count": null,
   "metadata": {
    "colab": {
     "base_uri": "https://localhost:8080/"
    },
    "id": "yhx9R1lWoOR2",
    "outputId": "ff43a04c-fe7f-4fb3-9917-79dc110d1c6d"
   },
   "outputs": [
    {
     "name": "stdout",
     "output_type": "stream",
     "text": [
      "{'a': [1, 2, 3], 'b': [3, 4, 5], 'c': [6, 7]}\n"
     ]
    }
   ],
   "source": [
    "data = {\n",
    "    \"a\": [1, 2, 2, 3],\n",
    "    \"b\": [3, 4, 4, 5],\n",
    "    \"c\": [6, 6, 7]\n",
    "}\n",
    "\n",
    "# Remove duplicates from each list (preserve order)\n",
    "for key, value in data.items():\n",
    "    data[key] = list(dict.fromkeys(value))\n",
    "\n",
    "print(data)"
   ]
  },
  {
   "cell_type": "markdown",
   "metadata": {
    "id": "fHJ0OlW2zMqF"
   },
   "source": [
    "*Dictionary to find mirror characters in a string*"
   ]
  },
  {
   "cell_type": "code",
   "execution_count": null,
   "metadata": {
    "colab": {
     "base_uri": "https://localhost:8080/"
    },
    "id": "FT5uB9IeoOPW",
    "outputId": "d4e4613b-7eef-4395-c2e1-ccb1cdcfdcd8"
   },
   "outputs": [
    {
     "name": "stdout",
     "output_type": "stream",
     "text": [
      "{'a': 'a', 'b': 'b', 'c': 'c'}\n"
     ]
    }
   ],
   "source": [
    "text = \"abccba\"\n",
    "\n",
    "# Dictionary to store mirror characters\n",
    "mirror_dict = {}\n",
    "\n",
    "# Iterate through the string up to the middle point\n",
    "for i in range(len(text)//2):\n",
    "    left_char = text[i]\n",
    "    right_char = text[len(text)-i-1]\n",
    "\n",
    "    # Add the pair to the dictionary\n",
    "    mirror_dict[left_char] = right_char\n",
    "    mirror_dict[right_char] = left_char\n",
    "\n",
    "# Print the dictionary of mirror characters\n",
    "print(mirror_dict)"
   ]
  },
  {
   "cell_type": "markdown",
   "metadata": {
    "id": "T8xJMLn3z1Z5"
   },
   "source": [
    "*Counting the frequencies in a list using dictionary in Python*"
   ]
  },
  {
   "cell_type": "code",
   "execution_count": null,
   "metadata": {
    "colab": {
     "base_uri": "https://localhost:8080/"
    },
    "id": "xzUt-CD_oOMs",
    "outputId": "f1a2ffdd-ea7b-44a7-af0b-a26a838a5c61"
   },
   "outputs": [
    {
     "name": "stdout",
     "output_type": "stream",
     "text": [
      "{'apple': 3, 'banana': 2, 'orange': 2}\n"
     ]
    }
   ],
   "source": [
    "data = [\"apple\", \"banana\", \"apple\", \"orange\", \"banana\", \"apple\", \"orange\"]\n",
    "\n",
    "# Dictionary to store frequencies\n",
    "frequency_dict = {}\n",
    "\n",
    "# Iterate through the list and count frequencies\n",
    "for item in data:\n",
    "    if item in frequency_dict:\n",
    "        frequency_dict[item] += 1  # Increment frequency by 1\n",
    "    else:\n",
    "        frequency_dict[item] = 1  # Initialize frequency to 1\n",
    "\n",
    "# Print the frequency dictionary\n",
    "print(frequency_dict)"
   ]
  },
  {
   "cell_type": "markdown",
   "metadata": {
    "id": "QorZ-2j00bWN"
   },
   "source": [
    "*Dictionary Values Mean*"
   ]
  },
  {
   "cell_type": "code",
   "execution_count": null,
   "metadata": {
    "colab": {
     "base_uri": "https://localhost:8080/"
    },
    "id": "wrhvENF4oOJt",
    "outputId": "09a64819-25cf-4de7-a144-18e0bb957f61"
   },
   "outputs": [
    {
     "name": "stdout",
     "output_type": "stream",
     "text": [
      "Alice\n"
     ]
    }
   ],
   "source": [
    "# Accessing Dictionary Values\n",
    "my_dict = {\n",
    "    \"name\": \"Alice\",\n",
    "    \"age\": 25,\n",
    "    \"city\": \"New York\"\n",
    "}\n",
    "\n",
    "# Accessing the value for key \"name\"\n",
    "print(my_dict[\"name\"])"
   ]
  },
  {
   "cell_type": "code",
   "execution_count": null,
   "metadata": {
    "colab": {
     "base_uri": "https://localhost:8080/"
    },
    "id": "nKJwv0ffoOHK",
    "outputId": "d6ee14bb-9abb-46dc-d5d5-d3241fd5cf8f"
   },
   "outputs": [
    {
     "name": "stdout",
     "output_type": "stream",
     "text": [
      "dict_values(['Alice', 25, 'New York'])\n"
     ]
    }
   ],
   "source": [
    "# Using .values() method\n",
    "values=my_dict.values()\n",
    "print(values)"
   ]
  },
  {
   "cell_type": "code",
   "execution_count": null,
   "metadata": {
    "colab": {
     "base_uri": "https://localhost:8080/"
    },
    "id": "Z6dccstboOEa",
    "outputId": "6f94622b-13a2-4feb-f691-0ec763095c1b"
   },
   "outputs": [
    {
     "name": "stdout",
     "output_type": "stream",
     "text": [
      "{'name': 'Alice', 'age': 26, 'city': 'New York'}\n"
     ]
    }
   ],
   "source": [
    "# Modifying Dictionary values\n",
    "my_dict[\"age\"] = 26\n",
    "\n",
    "print(my_dict)"
   ]
  },
  {
   "cell_type": "code",
   "execution_count": null,
   "metadata": {
    "colab": {
     "base_uri": "https://localhost:8080/"
    },
    "id": "eTnYNnCsoOBj",
    "outputId": "41dc4826-6ae2-480b-a6bb-da54998a2b63"
   },
   "outputs": [
    {
     "name": "stdout",
     "output_type": "stream",
     "text": [
      "Alice\n",
      "25\n",
      "True\n",
      "['Math', 'Science']\n",
      "{'city': 'New York', 'zip': '10001'}\n"
     ]
    }
   ],
   "source": [
    "# Examples with Different types of values\n",
    "my_dict = {\n",
    "    \"name\": \"Alice\",\n",
    "    \"age\": 25,\n",
    "    \"is_student\": True,\n",
    "    \"courses\": [\"Math\", \"Science\"],\n",
    "    \"address\": {\"city\": \"New York\", \"zip\": \"10001\"}\n",
    "}\n",
    "\n",
    "# Accessing different types of values\n",
    "print(my_dict[\"name\"])\n",
    "print(my_dict[\"age\"])\n",
    "print(my_dict[\"is_student\"])\n",
    "print(my_dict[\"courses\"])\n",
    "print(my_dict[\"address\"])"
   ]
  },
  {
   "cell_type": "markdown",
   "metadata": {
    "id": "7cdM5uje28VI"
   },
   "source": [
    "*Maximum record value key in dictionary*"
   ]
  },
  {
   "cell_type": "code",
   "execution_count": null,
   "metadata": {
    "colab": {
     "base_uri": "https://localhost:8080/"
    },
    "id": "5fHbiKGOoN-0",
    "outputId": "b18c19d4-662e-4bd8-a8ea-0048720968e3"
   },
   "outputs": [
    {
     "name": "stdout",
     "output_type": "stream",
     "text": [
      "Key with maximum value: banana\n"
     ]
    }
   ],
   "source": [
    "my_dict = {\n",
    "    \"apple\": 5,\n",
    "    \"banana\": 10,\n",
    "    \"orange\": 7,\n",
    "    \"grapes\": 3\n",
    "}\n",
    "\n",
    "# Find the key with the maximum value\n",
    "max_key = max(my_dict, key=my_dict.get)\n",
    "\n",
    "print(\"Key with maximum value:\",max_key)"
   ]
  },
  {
   "cell_type": "markdown",
   "metadata": {
    "id": "m_psldHm44Nr"
   },
   "source": [
    "*Extract values of Particular Key in Nested Values*"
   ]
  },
  {
   "cell_type": "code",
   "execution_count": null,
   "metadata": {
    "colab": {
     "base_uri": "https://localhost:8080/"
    },
    "id": "b9vQOEj3oN7j",
    "outputId": "24dc0e55-f02b-4cd9-82b6-4a80bcec1372"
   },
   "outputs": [
    {
     "name": "stdout",
     "output_type": "stream",
     "text": [
      "{'student1': {'name': 'Alice', 'age': 20}, 'student2': {'name': 'Bob', 'age': 22}, 'student3': {'name': 'Charlie', 'age': 23}}\n"
     ]
    }
   ],
   "source": [
    "nested_dict = {\n",
    "    \"student1\": {\"name\": \"Alice\", \"age\": 20},\n",
    "    \"student2\": {\"name\": \"Bob\", \"age\": 22},\n",
    "    \"student3\": {\"name\": \"Charlie\", \"age\": 23}\n",
    "}\n",
    "print(nested_dict)"
   ]
  },
  {
   "cell_type": "code",
   "execution_count": null,
   "metadata": {
    "colab": {
     "base_uri": "https://localhost:8080/"
    },
    "id": "Nz97gu58oN4j",
    "outputId": "70e3d3a5-afe4-4dd7-8813-ebff49e476c4"
   },
   "outputs": [
    {
     "name": "stdout",
     "output_type": "stream",
     "text": [
      "{'name': 'Bob', 'age': 22}\n"
     ]
    }
   ],
   "source": [
    "# Accessing Elements\n",
    "print(nested_dict['student2'])"
   ]
  },
  {
   "cell_type": "code",
   "execution_count": null,
   "metadata": {
    "colab": {
     "base_uri": "https://localhost:8080/"
    },
    "id": "Wv8lHhy-oN1m",
    "outputId": "e6624414-da35-4c3f-8623-153b06188023"
   },
   "outputs": [
    {
     "name": "stdout",
     "output_type": "stream",
     "text": [
      "{'name': 'Alice', 'age': 20}\n"
     ]
    }
   ],
   "source": [
    "print(nested_dict['student1'])"
   ]
  },
  {
   "cell_type": "code",
   "execution_count": null,
   "metadata": {
    "colab": {
     "base_uri": "https://localhost:8080/"
    },
    "id": "HHpQIw4AoNy5",
    "outputId": "7b382f34-c0d7-4999-99d1-553d22d16171"
   },
   "outputs": [
    {
     "name": "stdout",
     "output_type": "stream",
     "text": [
      "{'name': 'Charlie', 'age': 23}\n"
     ]
    }
   ],
   "source": [
    "print(nested_dict['student3'])"
   ]
  },
  {
   "cell_type": "code",
   "execution_count": null,
   "metadata": {
    "colab": {
     "base_uri": "https://localhost:8080/"
    },
    "id": "Js1wLob2oNuR",
    "outputId": "92814186-2386-4db3-c2cb-ce483e752b96"
   },
   "outputs": [
    {
     "name": "stdout",
     "output_type": "stream",
     "text": [
      "Bob\n"
     ]
    }
   ],
   "source": [
    "# Accesing elements from particular key\n",
    "print(nested_dict['student2']['name'])"
   ]
  },
  {
   "cell_type": "code",
   "execution_count": null,
   "metadata": {
    "colab": {
     "base_uri": "https://localhost:8080/"
    },
    "id": "txNk_7zkoNqy",
    "outputId": "205b8b39-f6c7-4f8f-bec6-4714d75ea674"
   },
   "outputs": [
    {
     "name": "stdout",
     "output_type": "stream",
     "text": [
      "20\n"
     ]
    }
   ],
   "source": [
    "print(nested_dict['student1']['age'])"
   ]
  },
  {
   "cell_type": "code",
   "execution_count": null,
   "metadata": {
    "colab": {
     "base_uri": "https://localhost:8080/"
    },
    "id": "ZqOVBkHxoNog",
    "outputId": "7ed85887-2f86-4774-b7fa-965b37e7d20f"
   },
   "outputs": [
    {
     "name": "stdout",
     "output_type": "stream",
     "text": [
      "Charlie\n"
     ]
    }
   ],
   "source": [
    "print(nested_dict['student3']['name'])"
   ]
  }
 ],
 "metadata": {
  "colab": {
   "provenance": []
  },
  "kernelspec": {
   "display_name": "Python 3 (ipykernel)",
   "language": "python",
   "name": "python3"
  },
  "language_info": {
   "codemirror_mode": {
    "name": "ipython",
    "version": 3
   },
   "file_extension": ".py",
   "mimetype": "text/x-python",
   "name": "python",
   "nbconvert_exporter": "python",
   "pygments_lexer": "ipython3",
   "version": "3.12.4"
  }
 },
 "nbformat": 4,
 "nbformat_minor": 4
}
